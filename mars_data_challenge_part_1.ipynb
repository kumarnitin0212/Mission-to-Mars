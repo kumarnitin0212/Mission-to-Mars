{
 "cells": [
  {
   "cell_type": "markdown",
   "id": "c36e8a0d",
   "metadata": {},
   "source": [
    "# Deliverable 1: web scraping the Mars News\n",
    "- Scrape **titles** and **preview texts** from Mars news articles.\n",
    "- Optionally export the data into a JSON file or a MongoDB database. "
   ]
  },
  {
   "cell_type": "code",
   "execution_count": 1,
   "id": "bb657996",
   "metadata": {},
   "outputs": [],
   "source": [
    "# import dependencies\n",
    "import pandas as pd\n",
    "import numpy as np\n",
    "from splinter import Browser\n",
    "from selenium import webdriver\n",
    "from selenium.webdriver.common.by import By\n",
    "from selenium.webdriver.common.keys import Keys\n",
    "from bs4 import BeautifulSoup as soup\n",
    "# import below when using Chrome browser\n",
    "from selenium.webdriver.chrome.service import Service\n",
    "from webdriver_manager.chrome import ChromeDriverManager"
   ]
  },
  {
   "cell_type": "code",
   "execution_count": 2,
   "id": "0dbf4940",
   "metadata": {},
   "outputs": [],
   "source": [
    "import time\n",
    "import json\n",
    "import os\n",
    "# set local chromedriver\n",
    "chromedrv = os.path.expanduser('C:\\chromedriver.exe')"
   ]
  },
  {
   "cell_type": "markdown",
   "id": "884cf120",
   "metadata": {},
   "source": [
    "## Method 1: splinter's executable_path"
   ]
  },
  {
   "cell_type": "code",
   "execution_count": 3,
   "id": "d40511cb",
   "metadata": {},
   "outputs": [],
   "source": [
    "# Set some default options for chrome browser\n",
    "options = webdriver.ChromeOptions()\n",
    "options.add_argument(\"--lang=en\")\n",
    "options.add_argument(\"--start-maximized\")\n",
    "options.add_argument(\"--disable-notifications\")\n",
    "# Set up splinter (PS: executable_path has deprecated)\n",
    "executable_path = {'executable_path': ChromeDriverManager().install()}\n",
    "browser = Browser('chrome', **executable_path, headless=False, options=options)\n",
    "# Visit a site defined in the url\n",
    "def geturl(url):\n",
    "    browser.visit(url)\n",
    "    # Optional delay for loading the page (unit: seconds)\n",
    "    browser.is_element_present_by_css('div.list_text', wait_time=1)"
   ]
  },
  {
   "cell_type": "code",
   "execution_count": 4,
   "id": "9d700339",
   "metadata": {},
   "outputs": [],
   "source": [
    "# Visit the Mars NASA news site\n",
    "geturl('https://redplanetscience.com')"
   ]
  },
  {
   "cell_type": "code",
   "execution_count": 5,
   "id": "bc144174",
   "metadata": {},
   "outputs": [],
   "source": [
    "# Parse the HTML and select all news articles\n",
    "html = browser.html\n",
    "news_soup = soup(html, 'html.parser')\n",
    "slide_elems = news_soup.select('div.list_text')"
   ]
  },
  {
   "cell_type": "code",
   "execution_count": 6,
   "id": "edac772a",
   "metadata": {},
   "outputs": [],
   "source": [
    "# Find and store all news article titles and preview texts\n",
    "news_list = []\n",
    "for elem in slide_elems:\n",
    "    # Use the parent element to find the news article title\n",
    "    title = elem.find('div', class_='content_title').text\n",
    "    # Use the parent element to find the paragraph text\n",
    "    preview = elem.find('div', class_='article_teaser_body').text\n",
    "    # Append each key-value pair to a list/dict\n",
    "    news_list.append({'title': title, 'preview': preview})"
   ]
  },
  {
   "cell_type": "code",
   "execution_count": 7,
   "id": "9b41e310",
   "metadata": {},
   "outputs": [],
   "source": [
    "# export the Python list/dict into a JSON file\n",
    "outfile = './Data/mars_data_method1.json'\n",
    "with open(outfile, 'w', encoding='utf-8') as f:\n",
    "    json.dump(news_list, f, ensure_ascii=False, indent=4)\n",
    "# close file (optional)\n",
    "f.close()"
   ]
  },
  {
   "cell_type": "code",
   "execution_count": 8,
   "id": "ddf3f9d6",
   "metadata": {
    "scrolled": true
   },
   "outputs": [],
   "source": [
    "# Verify the json file\n",
    "infile = open(outfile, 'r', encoding='utf-8')\n",
    "mars_data = json.load(infile)"
   ]
  },
  {
   "cell_type": "code",
   "execution_count": 9,
   "id": "a84d49c6",
   "metadata": {},
   "outputs": [],
   "source": [
    "browser.quit()"
   ]
  },
  {
   "cell_type": "markdown",
   "id": "fef2e35c",
   "metadata": {},
   "source": [
    "## Method 2: selenium's webdriver"
   ]
  },
  {
   "cell_type": "code",
   "execution_count": 10,
   "id": "e0a76dbb",
   "metadata": {},
   "outputs": [],
   "source": [
    "# Set some default options for chrome browser\n",
    "options = webdriver.ChromeOptions()\n",
    "options.add_argument(\"--lang=en\")\n",
    "options.add_argument(\"--start-maximized\")\n",
    "options.add_argument(\"--disable-notifications\")\n",
    "# Set up splinter (selenium 4)\n",
    "driver = webdriver.Chrome(service=Service(chromedrv), options=options)\n",
    "# Visit a site defined in the url\n",
    "def geturl(url):\n",
    "    driver.get(url)\n",
    "    # Optional delay for loading the page (unit: seconds)\n",
    "    driver.implicitly_wait(1)"
   ]
  },
  {
   "cell_type": "code",
   "execution_count": 11,
   "id": "7aef1979",
   "metadata": {},
   "outputs": [],
   "source": [
    "# Visit the Mars NASA news site\n",
    "geturl('https://redplanetscience.com')"
   ]
  },
  {
   "cell_type": "code",
   "execution_count": 12,
   "id": "bd95b717",
   "metadata": {},
   "outputs": [],
   "source": [
    "# Parse the HTML (selenium 4)\n",
    "html = driver.page_source\n",
    "news_soup = soup(html, 'html.parser')\n",
    "slide_elems = news_soup.select('div.list_text')"
   ]
  },
  {
   "cell_type": "code",
   "execution_count": 13,
   "id": "8f760645",
   "metadata": {},
   "outputs": [],
   "source": [
    "# Find and store all news article titles and preview texts\n",
    "news_list = []\n",
    "for elem in slide_elems:\n",
    "    # Use the parent element to find the news article title\n",
    "    title = elem.find('div', class_='content_title').text\n",
    "    # Use the parent element to find the paragraph text\n",
    "    preview = elem.find('div', class_='article_teaser_body').text\n",
    "    # Append each key-value pair to a list/dict\n",
    "    news_list.append({'title': title, 'preview': preview})"
   ]
  },
  {
   "cell_type": "code",
   "execution_count": 14,
   "id": "eef06d95",
   "metadata": {},
   "outputs": [],
   "source": [
    "# export the Python list/dict into a JSON file\n",
    "outfile = './Data/mars_data.json'\n",
    "with open(outfile, 'w', encoding='utf-8') as f:\n",
    "    json.dump(news_list, f, ensure_ascii=False, indent=4)\n",
    "# close file (optional)\n",
    "f.close()"
   ]
  },
  {
   "cell_type": "code",
   "execution_count": 15,
   "id": "8e7b48dd",
   "metadata": {
    "scrolled": true
   },
   "outputs": [
    {
     "data": {
      "text/plain": [
       "[{'title': \"Virginia Middle School Student Earns Honor of Naming NASA's Next Mars Rover\",\n",
       "  'preview': 'NASA chose a seventh-grader from Virginia as winner of the agency\\'s \"Name the Rover\" essay contest. Alexander Mather\\'s entry for \"Perseverance\" was voted tops among 28,000 entries. '},\n",
       " {'title': 'Naming a NASA Mars Rover Can Change Your Life',\n",
       "  'preview': 'Want to name the robotic scientist NASA is sending to Mars in 2020? The student who named Curiosity — the rover currently exploring Mars — will tell you this is an opportunity worth taking.'},\n",
       " {'title': \"3 Things We've Learned From NASA's Mars InSight \",\n",
       "  'preview': 'Scientists are finding new mysteries since the geophysics mission landed two years ago.'},\n",
       " {'title': \"NASA Wins 4 Webbys, 4 People's Voice Awards\",\n",
       "  'preview': 'Winners include the JPL-managed \"Send Your Name to Mars\" campaign, NASA\\'s Global Climate Change website and Solar System Interactive.'},\n",
       " {'title': \"NASA's Briefcase-Size MarCO Satellite Picks Up Honors\",\n",
       "  'preview': 'The twin spacecraft, the first of their kind to fly into deep space, earn a Laureate from Aviation Week & Space Technology.'},\n",
       " {'title': \"NASA's Mars 2020 Heads Into the Test Chamber\",\n",
       "  'preview': 'In this time-lapse video taken at JPL, engineers move the Mars 2020 rover into a large vacuum chamber for testing in Mars-like environmental conditions.'},\n",
       " {'title': \"NASA's Mars 2020 Rover Goes Coast-to-Coast to Prep for Launch\",\n",
       "  'preview': \"The agency's first step in returning rocks from Mars just arrived at Kennedy Space Center. The Mars 2020 team now begins readying for a launch to the Red Planet this July.\"},\n",
       " {'title': \"InSight's 'Mole' Team Peers into the Pit\",\n",
       "  'preview': 'Efforts to save the heat probe continue.'},\n",
       " {'title': \"NASA's MAVEN Explores Mars to Understand Radio Interference at Earth\",\n",
       "  'preview': 'NASA’s MAVEN spacecraft has discovered “layers” and “rifts” in the electrically charged part of the upper atmosphere of Mars.'},\n",
       " {'title': \"NASA's Perseverance Rover Will Carry First Spacesuit Materials to Mars\",\n",
       "  'preview': 'In a Q&A, spacesuit designer Amy Ross explains how five samples, including a piece of helmet visor, will be tested aboard the rover, which is targeting a July 30 launch. '},\n",
       " {'title': 'Global Storms on Mars Launch Dust Towers Into the Sky',\n",
       "  'preview': 'A Mars Dust Tower Stands Out Dust storms are common on Mars. But every decade or so, something unpredictable happens: a series of runaway storms break out, covering the entire planet in a dusty haze.'},\n",
       " {'title': 'NASA to Reveal Name of Its Next Mars Rover',\n",
       "  'preview': \"After a months-long contest among students to name NASA's newest Mars rover, the agency will reveal the winning name — and the winning student — this Thursday. \"},\n",
       " {'title': 'MAVEN Maps Electric Currents around Mars that are Fundamental to Atmospheric Loss',\n",
       "  'preview': 'Five years after NASA’s MAVEN spacecraft entered into orbit around Mars, data from the mission has led to the creation of a map of electric current systems in the Martian atmosphere.'},\n",
       " {'title': \"NASA's MAVEN Observes Martian Night Sky Pulsing in Ultraviolet Light\",\n",
       "  'preview': 'Vast areas of the Martian night sky pulse in ultraviolet light, according to images from NASA’s MAVEN spacecraft. The results are being used to illuminate complex circulation patterns in the Martian atmosphere.'},\n",
       " {'title': \"From JPL's Mailroom to Mars and Beyond\",\n",
       "  'preview': 'Bill Allen has thrived as the mechanical systems design lead for three Mars rover missions, but he got his start as a teenager sorting letters for the NASA center.'}]"
      ]
     },
     "execution_count": 15,
     "metadata": {},
     "output_type": "execute_result"
    }
   ],
   "source": [
    "# Verify the json file\n",
    "infile = open(outfile, 'r', encoding='utf-8')\n",
    "mars_data = json.load(infile)\n",
    "mars_data"
   ]
  },
  {
   "cell_type": "markdown",
   "id": "c333cb09",
   "metadata": {},
   "source": [
    "### Create a MongoDB Database\n",
    "```\n",
    "mongoimport --type json -d mars_data -c news_list --drop --jsonArray mars_data.json\n",
    "```"
   ]
  },
  {
   "cell_type": "code",
   "execution_count": 16,
   "id": "dde661f0",
   "metadata": {},
   "outputs": [
    {
     "data": {
      "text/plain": [
       "['admin', 'config', 'local', 'team_db']"
      ]
     },
     "execution_count": 16,
     "metadata": {},
     "output_type": "execute_result"
    }
   ],
   "source": [
    "from pymongo import MongoClient\n",
    "# Create an instance of MongoClient\n",
    "mongo = MongoClient(port=27017)\n",
    "mongo.list_database_names()"
   ]
  },
  {
   "cell_type": "code",
   "execution_count": 17,
   "id": "a3ba6c6c",
   "metadata": {},
   "outputs": [
    {
     "data": {
      "text/plain": [
       "[]"
      ]
     },
     "execution_count": 17,
     "metadata": {},
     "output_type": "execute_result"
    }
   ],
   "source": [
    "mars_db = mongo['mars_data']\n",
    "mars_db.list_collection_names()"
   ]
  },
  {
   "cell_type": "code",
   "execution_count": 18,
   "id": "e14d5769",
   "metadata": {
    "scrolled": true
   },
   "outputs": [],
   "source": [
    "titles = mars_db['news_list'].find().distinct('title')\n",
    "for title in titles:\n",
    "    print(title)"
   ]
  },
  {
   "cell_type": "code",
   "execution_count": 19,
   "id": "0dcfad77",
   "metadata": {
    "scrolled": true
   },
   "outputs": [],
   "source": [
    "previews = mars_db['news_list'].find().distinct('preview')\n",
    "for preview in previews:\n",
    "    print(preview)"
   ]
  },
  {
   "cell_type": "code",
   "execution_count": 20,
   "id": "5e4a05be",
   "metadata": {},
   "outputs": [],
   "source": [
    "mongo.close()"
   ]
  },
  {
   "cell_type": "code",
   "execution_count": 21,
   "id": "98652626",
   "metadata": {},
   "outputs": [],
   "source": [
    "driver.quit()"
   ]
  },
  {
   "cell_type": "code",
   "execution_count": null,
   "id": "630f077d",
   "metadata": {},
   "outputs": [],
   "source": []
  }
 ],
 "metadata": {
  "kernelspec": {
   "display_name": "Python 3 (ipykernel)",
   "language": "python",
   "name": "python3"
  },
  "language_info": {
   "codemirror_mode": {
    "name": "ipython",
    "version": 3
   },
   "file_extension": ".py",
   "mimetype": "text/x-python",
   "name": "python",
   "nbconvert_exporter": "python",
   "pygments_lexer": "ipython3",
   "version": "3.9.12"
  }
 },
 "nbformat": 4,
 "nbformat_minor": 5
}
